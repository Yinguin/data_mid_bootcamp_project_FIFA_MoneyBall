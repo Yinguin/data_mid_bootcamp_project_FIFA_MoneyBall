{
 "cells": [
  {
   "cell_type": "markdown",
   "id": "e447290d",
   "metadata": {},
   "source": [
    "# End-to-End"
   ]
  },
  {
   "cell_type": "markdown",
   "id": "f45390fe",
   "metadata": {},
   "source": [
    "## 1. Problem (mini project)"
   ]
  },
  {
   "cell_type": "markdown",
   "id": "ff34816f",
   "metadata": {},
   "source": [
    "Mini Project: FIFA - MoneyBall\n",
    "\n",
    "Perform an end-to-end analysis putting into practice what you have learned so far. You will apply statistical or machine learning techniques and present your results to the class."
   ]
  },
  {
   "cell_type": "code",
   "execution_count": 1,
   "id": "68a3da4e",
   "metadata": {},
   "outputs": [],
   "source": [
    "import pandas as pd\n",
    "import numpy as np\n",
    "pd.set_option('display.max_columns', None)\n",
    "from scipy import stats\n",
    "import matplotlib.pyplot as plt\n",
    "import seaborn as sns\n",
    "%matplotlib inline\n",
    "\n",
    "from sklearn.preprocessing import Normalizer\n",
    "from sklearn.preprocessing import MinMaxScaler\n",
    "from sklearn.preprocessing import StandardScaler\n",
    "from sklearn.linear_model import LinearRegression\n",
    "from sklearn.metrics import mean_squared_error, r2_score, mean_absolute_error\n",
    "from sklearn.preprocessing import OneHotEncoder\n",
    "from sklearn.model_selection import train_test_split\n",
    "from sklearn.linear_model import LinearRegression\n",
    "from statsmodels.formula.api import ols\n",
    "\n",
    "import warnings\n",
    "warnings.filterwarnings('ignore')"
   ]
  },
  {
   "cell_type": "markdown",
   "id": "8954db14",
   "metadata": {},
   "source": [
    "## 2. Getting Data"
   ]
  },
  {
   "cell_type": "markdown",
   "id": "c7a56884",
   "metadata": {},
   "source": [
    "## 3. Cleaning/Wrangling/EDA"
   ]
  },
  {
   "cell_type": "markdown",
   "id": "0014953b",
   "metadata": {},
   "source": [
    "## 4. Processing Data"
   ]
  },
  {
   "cell_type": "markdown",
   "id": "c5b08482",
   "metadata": {},
   "source": [
    "## 5. Modeling\n",
    "\n",
    "### Linear Regression"
   ]
  },
  {
   "cell_type": "markdown",
   "id": "01ca856e",
   "metadata": {},
   "source": [
    "## 6. Model Validation"
   ]
  },
  {
   "cell_type": "markdown",
   "id": "da2f4576",
   "metadata": {},
   "source": [
    "## 7. Reporting"
   ]
  }
 ],
 "metadata": {
  "kernelspec": {
   "display_name": "Python 3 (ipykernel)",
   "language": "python",
   "name": "python3"
  },
  "language_info": {
   "codemirror_mode": {
    "name": "ipython",
    "version": 3
   },
   "file_extension": ".py",
   "mimetype": "text/x-python",
   "name": "python",
   "nbconvert_exporter": "python",
   "pygments_lexer": "ipython3",
   "version": "3.9.13"
  }
 },
 "nbformat": 4,
 "nbformat_minor": 5
}
